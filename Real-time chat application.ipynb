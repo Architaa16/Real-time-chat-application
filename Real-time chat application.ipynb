{
 "cells": [
  {
   "cell_type": "code",
   "execution_count": 1,
   "id": "fd65ef2f-bdf8-41bb-9d61-cf6ee0d53580",
   "metadata": {},
   "outputs": [
    {
     "name": "stdout",
     "output_type": "stream",
     "text": [
      "Requirement already satisfied: websockets in c:\\users\\kiit\\anaconda3\\lib\\site-packages (12.0)\n"
     ]
    }
   ],
   "source": [
    "!pip install websockets"
   ]
  },
  {
   "cell_type": "code",
   "execution_count": 2,
   "id": "affce3c0-a586-4045-b251-2190314bcf16",
   "metadata": {},
   "outputs": [
    {
     "name": "stdout",
     "output_type": "stream",
     "text": [
      "Requirement already satisfied: flask in c:\\users\\kiit\\anaconda3\\lib\\site-packages (2.2.5)\n",
      "Requirement already satisfied: flask-socketio in c:\\users\\kiit\\anaconda3\\lib\\site-packages (5.3.6)\n",
      "Requirement already satisfied: eventlet in c:\\users\\kiit\\anaconda3\\lib\\site-packages (0.36.1)\n",
      "Requirement already satisfied: Werkzeug>=2.2.2 in c:\\users\\kiit\\anaconda3\\lib\\site-packages (from flask) (2.2.3)\n",
      "Requirement already satisfied: Jinja2>=3.0 in c:\\users\\kiit\\anaconda3\\lib\\site-packages (from flask) (3.1.3)\n",
      "Requirement already satisfied: itsdangerous>=2.0 in c:\\users\\kiit\\anaconda3\\lib\\site-packages (from flask) (2.0.1)\n",
      "Requirement already satisfied: click>=8.0 in c:\\users\\kiit\\anaconda3\\lib\\site-packages (from flask) (8.1.7)\n",
      "Requirement already satisfied: python-socketio>=5.0.2 in c:\\users\\kiit\\anaconda3\\lib\\site-packages (from flask-socketio) (5.11.3)\n",
      "Requirement already satisfied: dnspython>=1.15.0 in c:\\users\\kiit\\anaconda3\\lib\\site-packages (from eventlet) (2.6.1)\n",
      "Requirement already satisfied: greenlet>=1.0 in c:\\users\\kiit\\anaconda3\\lib\\site-packages (from eventlet) (3.0.1)\n",
      "Requirement already satisfied: colorama in c:\\users\\kiit\\anaconda3\\lib\\site-packages (from click>=8.0->flask) (0.4.6)\n",
      "Requirement already satisfied: MarkupSafe>=2.0 in c:\\users\\kiit\\anaconda3\\lib\\site-packages (from Jinja2>=3.0->flask) (2.1.3)\n",
      "Requirement already satisfied: bidict>=0.21.0 in c:\\users\\kiit\\anaconda3\\lib\\site-packages (from python-socketio>=5.0.2->flask-socketio) (0.23.1)\n",
      "Requirement already satisfied: python-engineio>=4.8.0 in c:\\users\\kiit\\anaconda3\\lib\\site-packages (from python-socketio>=5.0.2->flask-socketio) (4.9.1)\n",
      "Requirement already satisfied: simple-websocket>=0.10.0 in c:\\users\\kiit\\anaconda3\\lib\\site-packages (from python-engineio>=4.8.0->python-socketio>=5.0.2->flask-socketio) (1.0.0)\n",
      "Requirement already satisfied: wsproto in c:\\users\\kiit\\anaconda3\\lib\\site-packages (from simple-websocket>=0.10.0->python-engineio>=4.8.0->python-socketio>=5.0.2->flask-socketio) (1.2.0)\n",
      "Requirement already satisfied: h11<1,>=0.9.0 in c:\\users\\kiit\\anaconda3\\lib\\site-packages (from wsproto->simple-websocket>=0.10.0->python-engineio>=4.8.0->python-socketio>=5.0.2->flask-socketio) (0.14.0)\n"
     ]
    }
   ],
   "source": [
    "!pip install flask flask-socketio eventlet"
   ]
  },
  {
   "cell_type": "code",
   "execution_count": 3,
   "id": "0892f338-16b5-4323-ba73-5a31a72b02ec",
   "metadata": {},
   "outputs": [],
   "source": [
    "from flask import Flask, render_template, request\n",
    "from flask_socketio import SocketIO, send\n",
    "import sqlite3\n",
    "from threading import Thread\n",
    "import nest_asyncio\n",
    "\n",
    "nest_asyncio.apply()"
   ]
  },
  {
   "cell_type": "code",
   "execution_count": 4,
   "id": "569a3fa5-f7a4-40b3-bfe0-ef276069e482",
   "metadata": {},
   "outputs": [],
   "source": [
    "app = Flask(__name__)\n",
    "app.config['SECRET_KEY'] = 'secret!'\n",
    "socketio = SocketIO(app)"
   ]
  },
  {
   "cell_type": "code",
   "execution_count": 5,
   "id": "deefe86f-dd0c-4482-9010-085595011a89",
   "metadata": {},
   "outputs": [],
   "source": [
    "def init_db():\n",
    "    conn = sqlite3.connect('chat.db')\n",
    "    c = conn.cursor()\n",
    "    c.execute('''\n",
    "    CREATE TABLE IF NOT EXISTS messages (\n",
    "        id INTEGER PRIMARY KEY,\n",
    "        username TEXT NOT NULL,\n",
    "        content TEXT NOT NULL,\n",
    "        timestamp DATETIME DEFAULT CURRENT_TIMESTAMP\n",
    "    )\n",
    "    ''')\n",
    "    conn.commit()\n",
    "    conn.close()\n",
    "\n",
    "init_db()\n"
   ]
  },
  {
   "cell_type": "code",
   "execution_count": 6,
   "id": "419c4236-a61a-4031-8463-d7ab9e7c185b",
   "metadata": {},
   "outputs": [],
   "source": [
    "@app.route('/')\n",
    "def index():\n",
    "    return '''\n",
    "    <!doctype html>\n",
    "    <html>\n",
    "    <head>\n",
    "        <title>Chat Application</title>\n",
    "        <script src=\"https://cdnjs.cloudflare.com/ajax/libs/socket.io/3.1.3/socket.io.js\"></script>\n",
    "        <script type=\"text/javascript\">\n",
    "            document.addEventListener(\"DOMContentLoaded\", function() {\n",
    "                var socket = io();\n",
    "                socket.on('message', function(msg) {\n",
    "                    var messages = document.getElementById('messages');\n",
    "                    var message = document.createElement('div');\n",
    "                    message.innerText = msg.username + ': ' + msg.content;\n",
    "                    messages.appendChild(message);\n",
    "                });\n",
    "\n",
    "                document.getElementById('sendBtn').onclick = function() {\n",
    "                    var username = document.getElementById('username').value;\n",
    "                    var content = document.getElementById('message').value;\n",
    "                    socket.send({username: username, content: content});\n",
    "                };\n",
    "            });\n",
    "        </script>\n",
    "    </head>\n",
    "    <body>\n",
    "        <h1>Chat Room</h1>\n",
    "        <div id=\"messages\"></div>\n",
    "        <input type=\"text\" id=\"username\" placeholder=\"Username\">\n",
    "        <input type=\"text\" id=\"message\" placeholder=\"Message\">\n",
    "        <button id=\"sendBtn\">Send</button>\n",
    "    </body>\n",
    "    </html>\n",
    "    '''\n",
    "\n",
    "@socketio.on('message')\n",
    "def handle_message(msg):\n",
    "    username = msg['username']\n",
    "    content = msg['content']\n",
    "    \n",
    "    conn = sqlite3.connect('chat.db')\n",
    "    c = conn.cursor()\n",
    "    c.execute(\"INSERT INTO messages (username, content) VALUES (?, ?)\", (username, content))\n",
    "    conn.commit()\n",
    "    conn.close()\n",
    "    \n",
    "    send(msg, broadcast=True)\n"
   ]
  },
  {
   "cell_type": "code",
   "execution_count": 8,
   "id": "3bf38ee8-cf03-49ea-8d38-25dbb8fda50f",
   "metadata": {},
   "outputs": [
    {
     "name": "stderr",
     "output_type": "stream",
     "text": [
      "Exception in thread Thread-10 (run_app):\n",
      "Traceback (most recent call last):\n",
      "  File \"C:\\Users\\KIIT\\anaconda3\\Lib\\threading.py\", line 1038, in _bootstrap_inner\n",
      "    self.run()\n",
      "  File \"C:\\Users\\KIIT\\anaconda3\\Lib\\threading.py\", line 975, in run\n",
      "    self._target(*self._args, **self._kwargs)\n",
      "  File \"C:\\Users\\KIIT\\AppData\\Local\\Temp\\ipykernel_2888\\3179399158.py\", line 2, in run_app\n",
      "  File \"C:\\Users\\KIIT\\anaconda3\\Lib\\site-packages\\flask_socketio\\__init__.py\", line 684, in run\n",
      "    run_server()\n",
      "  File \"C:\\Users\\KIIT\\anaconda3\\Lib\\site-packages\\flask_socketio\\__init__.py\", line 661, in run_server\n",
      "    eventlet_socket = eventlet.listen(addresses[0][4],\n",
      "                      ^^^^^^^^^^^^^^^^^^^^^^^^^^^^^^^^\n",
      "  File \"C:\\Users\\KIIT\\anaconda3\\Lib\\site-packages\\eventlet\\convenience.py\", line 78, in listen\n",
      "    sock.bind(addr)\n",
      "OSError: [WinError 10048] Only one usage of each socket address (protocol/network address/port) is normally permitted\n"
     ]
    }
   ],
   "source": [
    "def run_app():\n",
    "    socketio.run(app, host='0.0.0.0', port=5000)\n",
    "\n",
    "thread = Thread(target=run_app)\n",
    "thread.start()"
   ]
  },
  {
   "cell_type": "code",
   "execution_count": null,
   "id": "adf72bc7-6062-4f89-9cae-0556cd36e160",
   "metadata": {},
   "outputs": [],
   "source": []
  },
  {
   "cell_type": "code",
   "execution_count": null,
   "id": "d7f9d587-7700-4227-85c6-3852c2364d67",
   "metadata": {},
   "outputs": [],
   "source": []
  }
 ],
 "metadata": {
  "kernelspec": {
   "display_name": "Python 3 (ipykernel)",
   "language": "python",
   "name": "python3"
  },
  "language_info": {
   "codemirror_mode": {
    "name": "ipython",
    "version": 3
   },
   "file_extension": ".py",
   "mimetype": "text/x-python",
   "name": "python",
   "nbconvert_exporter": "python",
   "pygments_lexer": "ipython3",
   "version": "3.11.5"
  }
 },
 "nbformat": 4,
 "nbformat_minor": 5
}
